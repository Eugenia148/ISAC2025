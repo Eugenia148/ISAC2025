{
 "cells": [
  {
   "cell_type": "markdown",
   "id": "e1a079f3",
   "metadata": {},
   "source": [
    "# Attacking Midfielders & Wingers — PCA & Clustering Analysis\n",
    "\n",
    "**Goal:** Prepare features and run PCA + GMM clustering for the **Attacking Midfielders & Wingers** cohort (Wing Backs/Full Backs + Holding Midfielders + Central Midfielders).\n"
   ]
  },
  {
   "cell_type": "markdown",
   "id": "0b48a3f4",
   "metadata": {},
   "source": [
    "## 1. Imports & Configuration\n"
   ]
  },
  {
   "cell_type": "code",
   "execution_count": 18,
   "id": "7aa63f78",
   "metadata": {},
   "outputs": [
    {
     "name": "stdout",
     "output_type": "stream",
     "text": [
      "✓ Credentials loaded successfully\n",
      "✓ Imports complete\n",
      "Config: MIN_MINUTES=500, NORMALIZATION_MODE=zscore, COMPETITION_ID=73\n"
     ]
    }
   ],
   "source": [
    "import os\n",
    "import json\n",
    "from pathlib import Path\n",
    "import warnings\n",
    "from dotenv import load_dotenv\n",
    "\n",
    "import numpy as np\n",
    "import pandas as pd\n",
    "import matplotlib.pyplot as plt\n",
    "import seaborn as sns\n",
    "from sklearn.decomposition import PCA\n",
    "from scipy.stats import mstats\n",
    "from statsbombpy import sb\n",
    "\n",
    "warnings.filterwarnings('ignore')\n",
    "\n",
    "# Load environment variables\n",
    "load_dotenv()\n",
    "\n",
    "# Set credentials if available\n",
    "username = os.getenv('SB_USERNAME')\n",
    "password = os.getenv('SB_PASSWORD')\n",
    "creds = {'user': username, 'passwd': password} if username and password else None\n",
    "\n",
    "if creds:\n",
    "    print(\"✓ Credentials loaded successfully\")\n",
    "else:\n",
    "    print(\"⚠ No credentials found - using open data access only\")\n",
    "\n",
    "# Configuration\n",
    "RANDOM_SEED = 42\n",
    "MIN_MINUTES = 500\n",
    "MISSING_THRESHOLD = 0.30  # Drop features with ≥30% missing\n",
    "COVERAGE_360_THRESHOLD = 0.70  # Keep 360 metrics if ≥70% have data\n",
    "WINSORIZE_LIMITS = (0.01, 0.99)  # 1st and 99th percentiles\n",
    "COLLINEARITY_THRESHOLD = 0.90  # Drop one feature if |r| ≥ 0.90\n",
    "NORMALIZATION_MODE = \"zscore\"  # Options: \"zscore\" or \"l2\"\n",
    "COMPETITION_ID = 73  # Liga MX\n",
    "\n",
    "np.random.seed(RANDOM_SEED)\n",
    "\n",
    "# Plotting defaults\n",
    "plt.style.use('seaborn-v0_8-darkgrid')\n",
    "sns.set_palette(\"husl\")\n",
    "plt.rcParams['figure.figsize'] = (12, 6)\n",
    "plt.rcParams['figure.dpi'] = 100\n",
    "\n",
    "print(\"✓ Imports complete\")\n",
    "print(f\"Config: MIN_MINUTES={MIN_MINUTES}, NORMALIZATION_MODE={NORMALIZATION_MODE}, COMPETITION_ID={COMPETITION_ID}\")\n"
   ]
  },
  {
   "cell_type": "markdown",
   "id": "46bd7c72",
   "metadata": {},
   "source": [
    "## 2. Paths & Logger Setup\n"
   ]
  },
  {
   "cell_type": "code",
   "execution_count": 19,
   "id": "a9a9d706",
   "metadata": {},
   "outputs": [
    {
     "name": "stdout",
     "output_type": "stream",
     "text": [
      "✓ Artifact base directory: c:\\Users\\carls\\OneDrive\\Dokumente\\Uni\\05 Semester\\Marketing y Estrategia de Deportes\\Projekt\\Repo\\ISAC2025\\notebooks\\..\\data\\processed\\attacking_midfielders_wingers_artifacts\n"
     ]
    }
   ],
   "source": [
    "# Artifact directory\n",
    "ARTIFACT_BASE = Path(\"../data/processed/attacking_midfielders_wingers_artifacts\")\n",
    "ARTIFACT_BASE.mkdir(parents=True, exist_ok=True)\n",
    "\n",
    "def get_season_artifact_dir(season_id: int, season_name: str) -> Path:\n",
    "    \"\"\"Create and return season-specific artifact directory.\"\"\"\n",
    "    season_dir = ARTIFACT_BASE / str(season_id)\n",
    "    season_dir.mkdir(parents=True, exist_ok=True)\n",
    "    return season_dir\n",
    "\n",
    "def log_message(msg: str, level: str = \"INFO\"):\n",
    "    \"\"\"Simple logger.\"\"\"\n",
    "    print(f\"[{level}] {msg}\")\n",
    "\n",
    "print(f\"✓ Artifact base directory: {ARTIFACT_BASE.absolute()}\")\n"
   ]
  },
  {
   "cell_type": "markdown",
   "id": "309299d1",
   "metadata": {},
   "source": [
    "## 3. Position Definitions\n"
   ]
  },
  {
   "cell_type": "code",
   "execution_count": 20,
   "id": "113ce258",
   "metadata": {},
   "outputs": [
    {
     "name": "stdout",
     "output_type": "stream",
     "text": [
      "✓ Attacking Midfielder & Winger positions defined:\n",
      "  - Right Midfielder\n",
      "  - Left Midfielder\n",
      "  - Right Wing\n",
      "  - Left Wing\n",
      "  - Right Attacking Midfielder\n",
      "  - Centre Attacking Midfielder\n",
      "  - Left Attacking Midfielder\n"
     ]
    }
   ],
   "source": [
    "# Positions in scope\n",
    "ATTACKING_MID_WINGER_POSITIONS = [\n",
    "    # Wide Midfielders\n",
    "    \"Right Midfielder\",\n",
    "    \"Left Midfielder\",\n",
    "    \n",
    "    # Wingers\n",
    "    \"Right Wing\",\n",
    "    \"Left Wing\",\n",
    "    \n",
    "    # Attacking Midfielders\n",
    "    \"Right Attacking Midfielder\",\n",
    "    \"Centre Attacking Midfielder\",\n",
    "    \"Left Attacking Midfielder\"\n",
    "]\n",
    "\n",
    "print(\"✓ Attacking Midfielder & Winger positions defined:\")\n",
    "for pos in ATTACKING_MID_WINGER_POSITIONS:\n",
    "    print(f\"  - {pos}\")"
   ]
  },
  {
   "cell_type": "markdown",
   "id": "de46b2eb",
   "metadata": {},
   "source": [
    "## 4. Feature Definitions\n"
   ]
  },
  {
   "cell_type": "code",
   "execution_count": 21,
   "id": "759ce1f5",
   "metadata": {},
   "outputs": [
    {
     "name": "stdout",
     "output_type": "stream",
     "text": [
      "✓ Total features defined: 79\n"
     ]
    }
   ],
   "source": [
    "# Combined feature list for Attacking Midfielders & Wingers\n",
    "BASE_FEATURES = [\n",
    "    # --- Offensive Production ---\n",
    "    'player_season_goals_90', 'player_season_npg_90', 'player_season_np_xg_90',\n",
    "    'player_season_np_xg_per_shot', 'player_season_conversion_ratio',\n",
    "    'player_season_shot_on_target_ratio', 'player_season_shot_touch_ratio',\n",
    "    'player_season_touches_inside_box_90', 'player_season_over_under_performance_90',\n",
    "    'player_season_npxgxa_90',\n",
    "    \n",
    "    # --- Chance Creation & Playmaking ---\n",
    "    'player_season_assists_90', 'player_season_op_assists_90',\n",
    "    'player_season_key_passes_90', 'player_season_op_key_passes_90',\n",
    "    'player_season_sp_assists_90', 'player_season_sp_key_passes_90',\n",
    "    'player_season_through_balls_90', 'player_season_xa_90',\n",
    "    'player_season_op_xa_90', 'player_season_sp_xa_90',\n",
    "    'player_season_xgchain_90', 'player_season_xgbuildup_90',\n",
    "    'player_season_shots_key_passes_90',\n",
    "    \n",
    "    # --- Ball Progression & Involvement ---\n",
    "    'player_season_carries_90', 'player_season_carry_length', 'player_season_carry_ratio',\n",
    "    'player_season_deep_completions_90', 'player_season_deep_progressions_90',\n",
    "    'player_season_op_passes_90', 'player_season_passes_into_box_90',\n",
    "    'player_season_op_passes_into_box_90', 'player_season_lbp_90',\n",
    "    'player_season_lbp_completed_90', 'player_season_lbp_ratio',\n",
    "    'player_season_f3_lbp_90', 'player_season_f3_lbp_completed_90',\n",
    "    'player_season_f3_lbp_ratio', 'player_season_obv_dribble_carry_90',\n",
    "    'player_season_obv_pass_90', 'player_season_obv_shot_90',\n",
    "    'player_season_obv_defensive_action_90', 'player_season_positive_outcome_90',\n",
    "    'player_season_positive_outcome_score',\n",
    "    \n",
    "    # --- Width & Crossing ---\n",
    "    'player_season_crosses_90', 'player_season_crossing_ratio',\n",
    "    'player_season_box_cross_ratio', 'player_season_average_f3_space_received_in',\n",
    "    'player_season_f3_ball_receipts_in_space_5_ratio',\n",
    "    'player_season_f3_ball_receipts_in_space_10_ratio',\n",
    "    'player_season_f3_lbp_received_90', 'player_season_f3_obv_lbp_90',\n",
    "    \n",
    "    # --- Passing Style & Directionality ---\n",
    "    'player_season_passing_ratio', 'player_season_forward_pass_proportion',\n",
    "    'player_season_backward_pass_proportion', 'player_season_sideways_pass_proportion',\n",
    "    'player_season_pass_into_danger_ratio', 'player_season_pass_into_pressure_ratio',\n",
    "    'player_season_p_pass_length', 'player_season_s_pass_length',\n",
    "    'player_season_pass_length_ratio', 'player_season_op_f3_forward_pass_proportion',\n",
    "    'player_season_op_f3_backward_pass_proportion', 'player_season_op_f3_sideways_pass_proportion',\n",
    "    \n",
    "    # --- Ball Retention & Risk ---\n",
    "    'player_season_total_dribbles_90', 'player_season_dribbles_90',\n",
    "    'player_season_failed_dribbles_90', 'player_season_dribble_ratio',\n",
    "    'player_season_turnovers_90', 'player_season_dispossessions_90',\n",
    "    'player_season_errors_90',\n",
    "    \n",
    "    # --- Defensive & Pressing Workrate ---\n",
    "    'player_season_pressures_90', 'player_season_fhalf_pressures_90',\n",
    "    'player_season_fhalf_pressures_ratio', 'player_season_counterpressures_90',\n",
    "    'player_season_fhalf_counterpressures_ratio', 'player_season_defensive_action_90',\n",
    "    'player_season_padj_tackles_and_interceptions_90', 'player_season_ball_recoveries_90',\n",
    "    'player_season_fhalf_ball_recoveries_90',\n",
    "]\n",
    "\n",
    "print(f\"✓ Total features defined: {len(BASE_FEATURES)}\")"
   ]
  },
  {
   "cell_type": "markdown",
   "id": "45b9b29f",
   "metadata": {},
   "source": []
  },
  {
   "cell_type": "code",
   "execution_count": 22,
   "id": "406306c0",
   "metadata": {},
   "outputs": [
    {
     "name": "stdout",
     "output_type": "stream",
     "text": [
      "[INFO] Found 4 seasons\n",
      "  - 108: 2021/2022 (21/22)\n",
      "  - 235: 2022/2023 (22/23)\n",
      "  - 281: 2023/2024 (23/24)\n",
      "  - 317: 2024/2025 (24/25)\n"
     ]
    }
   ],
   "source": [
    "# Define all available Liga MX seasons\n",
    "SEASON_INFO = [\n",
    "    {\"id\": 108, \"name\": \"2021/2022\", \"year\": \"21/22\"},\n",
    "    {\"id\": 235, \"name\": \"2022/2023\", \"year\": \"22/23\"},\n",
    "    {\"id\": 281, \"name\": \"2023/2024\", \"year\": \"23/24\"},\n",
    "    {\"id\": 317, \"name\": \"2024/2025\", \"year\": \"24/25\"}\n",
    "]\n",
    "\n",
    "log_message(f\"Found {len(SEASON_INFO)} seasons\")\n",
    "for s in SEASON_INFO:\n",
    "    print(f\"  - {s['id']}: {s['name']} ({s['year']})\")\n"
   ]
  },
  {
   "cell_type": "code",
   "execution_count": 23,
   "id": "cb35c3ea",
   "metadata": {},
   "outputs": [
    {
     "name": "stdout",
     "output_type": "stream",
     "text": [
      "[INFO] \n",
      "================================================================================\n",
      "[INFO] FETCHING DATA\n",
      "[INFO] ================================================================================\n",
      "[INFO] Fetching season 2021/2022 (ID: 108)...\n",
      "[INFO]   - Found 603 player records\n",
      "[INFO] Fetching season 2022/2023 (ID: 235)...\n",
      "[INFO]   - Found 591 player records\n",
      "[INFO] Fetching season 2023/2024 (ID: 281)...\n",
      "[INFO]   - Found 623 player records\n",
      "[INFO] Fetching season 2024/2025 (ID: 317)...\n",
      "[INFO]   - Found 636 player records\n",
      "[INFO] \n",
      "✓ Total combined records: 2453\n",
      "[INFO] ✓ Columns: 225\n"
     ]
    }
   ],
   "source": [
    "# Fetch data from all seasons\n",
    "log_message(\"\\n\" + \"=\"*80)\n",
    "log_message(\"FETCHING DATA\")\n",
    "log_message(\"=\"*80)\n",
    "\n",
    "all_season_stats = []\n",
    "\n",
    "for season in SEASON_INFO:\n",
    "    season_id = season['id']\n",
    "    season_name = season['name']\n",
    "    \n",
    "    log_message(f\"Fetching season {season_name} (ID: {season_id})...\")\n",
    "    season_stats = sb.player_season_stats(competition_id=COMPETITION_ID, season_id=season_id, creds=creds)\n",
    "    \n",
    "    # Add season information\n",
    "    season_stats['season_id'] = season_id\n",
    "    season_stats['season_name'] = season_name\n",
    "    \n",
    "    # Create unique player identifier combining player_id and season_id\n",
    "    season_stats['player_season_id'] = season_stats['player_id'].astype(str) + '_' + season_stats['season_id'].astype(str)\n",
    "    \n",
    "    all_season_stats.append(season_stats)\n",
    "    log_message(f\"  - Found {len(season_stats)} player records\")\n",
    "\n",
    "# Combine all seasons\n",
    "combined_season_stats = pd.concat(all_season_stats, ignore_index=True)\n",
    "log_message(f\"\\n✓ Total combined records: {len(combined_season_stats)}\")\n",
    "log_message(f\"✓ Columns: {len(combined_season_stats.columns)}\")\n"
   ]
  },
  {
   "cell_type": "code",
   "execution_count": 24,
   "id": "3b56bae3",
   "metadata": {},
   "outputs": [
    {
     "name": "stdout",
     "output_type": "stream",
     "text": [
      "[INFO] \n",
      "================================================================================\n",
      "[INFO] POSITION FILTERING\n",
      "[INFO] ================================================================================\n",
      "[INFO] Players matching positions: 750\n",
      "[INFO] Players with 500+ minutes: 474\n",
      "[INFO] \n",
      "✓ Position distribution (primary):\n",
      "  - Right Wing: 80\n",
      "  - Centre Attacking Midfielder: 79\n",
      "  - Left Wing: 79\n",
      "  - Left Midfielder: 57\n",
      "  - Right Midfielder: 52\n",
      "  - Centre Forward: 15\n",
      "  - Left Back: 15\n",
      "  - Right Back: 14\n",
      "  - Left Wing Back: 14\n",
      "  - Left Centre Midfielder: 12\n",
      "  - Left Defensive Midfielder: 9\n",
      "  - Left Centre Forward: 8\n",
      "  - Right Centre Midfielder: 6\n",
      "  - Right Centre Back: 6\n",
      "  - Right Centre Forward: 6\n",
      "  - Goalkeeper: 5\n",
      "  - Right Defensive Midfielder: 5\n",
      "  - Left Centre Back: 4\n",
      "  - Right Wing Back: 4\n",
      "  - Left Attacking Midfielder: 3\n",
      "  - Right Attacking Midfielder: 1\n",
      "[INFO] \n",
      "✓ Players per season:\n",
      "  - 2021/2022: 120\n",
      "  - 2022/2023: 116\n",
      "  - 2023/2024: 125\n",
      "  - 2024/2025: 113\n",
      "[INFO] \n",
      "✓ Total player-seasons for analysis: 474\n"
     ]
    }
   ],
   "source": [
    "# Filter by positions\n",
    "log_message(\"\\n\" + \"=\"*80)\n",
    "log_message(\"POSITION FILTERING\")\n",
    "log_message(\"=\"*80)\n",
    "\n",
    "# Create position filter\n",
    "position_filter = (\n",
    "    combined_season_stats['primary_position'].isin(ATTACKING_MID_WINGER_POSITIONS) | \n",
    "    combined_season_stats['secondary_position'].isin(ATTACKING_MID_WINGER_POSITIONS)\n",
    ")\n",
    "\n",
    "attacking_mid_winger_stats = combined_season_stats[position_filter].copy()\n",
    "log_message(f\"Players matching positions: {len(attacking_mid_winger_stats)}\")\n",
    "\n",
    "# Filter by minutes\n",
    "combined_filtered = attacking_mid_winger_stats[attacking_mid_winger_stats['player_season_minutes'] >= MIN_MINUTES].copy()\n",
    "log_message(f\"Players with {MIN_MINUTES}+ minutes: {len(combined_filtered)}\")\n",
    "\n",
    "# Show position distribution\n",
    "log_message(f\"\\n✓ Position distribution (primary):\")\n",
    "primary_positions = combined_filtered['primary_position'].value_counts()\n",
    "for pos, count in primary_positions.items():\n",
    "    print(f\"  - {pos}: {count}\")\n",
    "\n",
    "log_message(f\"\\n✓ Players per season:\")\n",
    "season_counts = combined_filtered['season_name'].value_counts().sort_index()\n",
    "for season, count in season_counts.items():\n",
    "    print(f\"  - {season}: {count}\")\n",
    "\n",
    "log_message(f\"\\n✓ Total player-seasons for analysis: {len(combined_filtered)}\")\n"
   ]
  },
  {
   "cell_type": "markdown",
   "id": "8c17bc31",
   "metadata": {},
   "source": [
    "\n"
   ]
  },
  {
   "cell_type": "code",
   "execution_count": null,
   "id": "345e5bf6",
   "metadata": {},
   "outputs": [],
   "source": []
  },
  {
   "cell_type": "markdown",
   "id": "ed892c6f",
   "metadata": {},
   "source": [
    "## 5. Feature Extraction & Preprocessing\n"
   ]
  },
  {
   "cell_type": "code",
   "execution_count": 25,
   "id": "51355a24",
   "metadata": {},
   "outputs": [
    {
     "name": "stdout",
     "output_type": "stream",
     "text": [
      "[INFO] \n",
      "================================================================================\n",
      "[INFO] FEATURE EXTRACTION & PREPROCESSING\n",
      "[INFO] ================================================================================\n",
      "[INFO] Available features: 78\n",
      "[INFO] Missing features: 1\n",
      "[WARNING] Missing features:\n",
      "  - player_season_defensive_action_90\n",
      "[INFO] \n",
      "1. Features after NaN filtering (>40% threshold): 78\n",
      "[INFO] 2. Remaining NaN values after imputation: 0\n",
      "[INFO] 3. Features after zero-variance filtering: 78\n",
      "[INFO] 4. Winsorized features to [1.0%, 99.0%] percentiles\n",
      "[INFO] 5. Z-score normalized 78 features\n",
      "[INFO] 6. Dropping 7 collinear features (|r| ≥ 0.9):\n",
      "  - player_season_goals_90: Correlated with player_season_npg_90 (r=0.955)\n",
      "  - player_season_assists_90: Correlated with player_season_op_assists_90 (r=0.903)\n",
      "  - player_season_xa_90: Correlated with player_season_op_xa_90 (r=0.911)\n",
      "  - player_season_sp_key_passes_90: Correlated with player_season_sp_xa_90 (r=0.938)\n",
      "  - player_season_lbp_90: Correlated with player_season_lbp_completed_90 (r=0.929)\n",
      "  - player_season_average_f3_space_received_in: Correlated with player_season_f3_ball_receipts_in_space_5_ratio (r=0.961)\n",
      "  - player_season_total_dribbles_90: Correlated with player_season_dribbles_90 (r=0.919)\n",
      "[INFO] \n",
      "✓ Ready for PCA with 71 features and 474 players\n",
      "[INFO] ✓ Dataset spans 4 seasons: ['2021/2022', '2022/2023', '2023/2024', '2024/2025']\n"
     ]
    }
   ],
   "source": [
    "# Extract features from combined dataset\n",
    "log_message(\"\\n\" + \"=\"*80)\n",
    "log_message(\"FEATURE EXTRACTION & PREPROCESSING\")\n",
    "log_message(\"=\"*80)\n",
    "\n",
    "# Check which features are available in the combined dataset\n",
    "available_features = [f for f in BASE_FEATURES if f in combined_filtered.columns]\n",
    "missing_features = [f for f in BASE_FEATURES if f not in combined_filtered.columns]\n",
    "\n",
    "log_message(f\"Available features: {len(available_features)}\")\n",
    "log_message(f\"Missing features: {len(missing_features)}\")\n",
    "if missing_features:\n",
    "    log_message(\"Missing features:\", \"WARNING\")\n",
    "    for feat in missing_features[:10]:  # Show first 10\n",
    "        print(f\"  - {feat}\")\n",
    "\n",
    "attacking_mid_winger_features = combined_filtered[available_features].copy()\n",
    "\n",
    "# 1. Drop high-NaN columns\n",
    "nan_threshold = 0.4\n",
    "valid_cols = attacking_mid_winger_features.columns[attacking_mid_winger_features.isna().mean() <= nan_threshold]\n",
    "attacking_mid_winger_features = attacking_mid_winger_features[valid_cols]\n",
    "log_message(f\"\\n1. Features after NaN filtering (>{nan_threshold:.0%} threshold): {len(valid_cols)}\")\n",
    "\n",
    "# 2. Impute remaining NaN with median\n",
    "attacking_mid_winger_features = attacking_mid_winger_features.apply(lambda s: s.fillna(s.median()), axis=0)\n",
    "log_message(f\"2. Remaining NaN values after imputation: {attacking_mid_winger_features.isna().sum().sum()}\")\n",
    "\n",
    "# 3. Drop zero-variance columns\n",
    "zero_var = attacking_mid_winger_features.std() == 0\n",
    "attacking_mid_winger_features = attacking_mid_winger_features.loc[:, ~zero_var]\n",
    "log_message(f\"3. Features after zero-variance filtering: {attacking_mid_winger_features.shape[1]}\")\n",
    "\n",
    "# 4. Winsorization (clip to 1st and 99th percentiles)\n",
    "from scipy.stats import mstats\n",
    "winsorize_limits = (0.01, 0.99)\n",
    "attacking_mid_winger_features_winsorized = attacking_mid_winger_features.copy()\n",
    "\n",
    "for col in attacking_mid_winger_features_winsorized.columns:\n",
    "    lower = attacking_mid_winger_features_winsorized[col].quantile(winsorize_limits[0])\n",
    "    upper = attacking_mid_winger_features_winsorized[col].quantile(winsorize_limits[1])\n",
    "    attacking_mid_winger_features_winsorized[col] = attacking_mid_winger_features_winsorized[col].clip(lower=lower, upper=upper)\n",
    "\n",
    "log_message(f\"4. Winsorized features to [{winsorize_limits[0]:.1%}, {winsorize_limits[1]:.1%}] percentiles\")\n",
    "\n",
    "# 5. Z-score normalization (standardization)\n",
    "from sklearn.preprocessing import StandardScaler\n",
    "scaler = StandardScaler()\n",
    "attacking_mid_winger_features_scaled = scaler.fit_transform(attacking_mid_winger_features_winsorized)\n",
    "\n",
    "# Convert back to DataFrame\n",
    "attacking_mid_winger_features_scaled_df = pd.DataFrame(\n",
    "    attacking_mid_winger_features_scaled, \n",
    "    columns=attacking_mid_winger_features_winsorized.columns, \n",
    "    index=combined_filtered['player_season_id']\n",
    ")\n",
    "log_message(f\"5. Z-score normalized {attacking_mid_winger_features_scaled_df.shape[1]} features\")\n",
    "\n",
    "# 6. Collinearity pruning (drop one feature from pairs with |r| >= 0.90)\n",
    "collinearity_threshold = 0.90\n",
    "corr_matrix = attacking_mid_winger_features_scaled_df.corr().abs()\n",
    "\n",
    "# Upper triangle (avoid double-counting)\n",
    "upper_tri = corr_matrix.where(\n",
    "    np.triu(np.ones(corr_matrix.shape), k=1).astype(bool)\n",
    ")\n",
    "\n",
    "# Find features to drop\n",
    "to_drop = set()\n",
    "dropped_collinear = {}\n",
    "\n",
    "for column in upper_tri.columns:\n",
    "    if column in to_drop:\n",
    "        continue\n",
    "    \n",
    "    high_corr = upper_tri[column][upper_tri[column] >= collinearity_threshold]\n",
    "    \n",
    "    for other_feat in high_corr.index:\n",
    "        if other_feat not in to_drop:\n",
    "            to_drop.add(other_feat)\n",
    "            dropped_collinear[other_feat] = f\"Correlated with {column} (r={upper_tri.loc[other_feat, column]:.3f})\"\n",
    "\n",
    "if to_drop:\n",
    "    log_message(f\"6. Dropping {len(to_drop)} collinear features (|r| ≥ {collinearity_threshold}):\")\n",
    "    for feat, reason in dropped_collinear.items():\n",
    "        print(f\"  - {feat}: {reason}\")\n",
    "    \n",
    "    keep_features = [f for f in attacking_mid_winger_features_scaled_df.columns if f not in to_drop]\n",
    "    attacking_mid_winger_features_scaled_df = attacking_mid_winger_features_scaled_df[keep_features]\n",
    "else:\n",
    "    log_message(f\"6. No collinear features found (threshold={collinearity_threshold})\")\n",
    "\n",
    "log_message(f\"\\n✓ Ready for PCA with {attacking_mid_winger_features_scaled_df.shape[1]} features and {attacking_mid_winger_features_scaled_df.shape[0]} players\")\n",
    "log_message(f\"✓ Dataset spans {combined_filtered['season_name'].nunique()} seasons: {sorted(combined_filtered['season_name'].unique())}\")\n"
   ]
  },
  {
   "cell_type": "markdown",
   "id": "f70bef0f",
   "metadata": {},
   "source": [
    "\n"
   ]
  },
  {
   "cell_type": "code",
   "execution_count": null,
   "id": "028ab866",
   "metadata": {},
   "outputs": [],
   "source": [
    "\n"
   ]
  },
  {
   "cell_type": "markdown",
   "id": "dba32082",
   "metadata": {},
   "source": [
    "\n"
   ]
  },
  {
   "cell_type": "code",
   "execution_count": null,
   "id": "42d66501",
   "metadata": {},
   "outputs": [],
   "source": [
    "\n"
   ]
  },
  {
   "cell_type": "markdown",
   "id": "4203c85c",
   "metadata": {},
   "source": [
    "\n"
   ]
  },
  {
   "cell_type": "code",
   "execution_count": null,
   "id": "e72ea50d",
   "metadata": {},
   "outputs": [],
   "source": [
    "\n"
   ]
  },
  {
   "cell_type": "markdown",
   "id": "4b0e38a1",
   "metadata": {},
   "source": [
    "\n"
   ]
  },
  {
   "cell_type": "code",
   "execution_count": null,
   "id": "a532d9e7",
   "metadata": {},
   "outputs": [],
   "source": [
    "\n"
   ]
  },
  {
   "cell_type": "markdown",
   "id": "f9d5ee2a",
   "metadata": {},
   "source": [
    "\n"
   ]
  },
  {
   "cell_type": "code",
   "execution_count": null,
   "id": "29385f28",
   "metadata": {},
   "outputs": [],
   "source": [
    "\n"
   ]
  },
  {
   "cell_type": "markdown",
   "id": "6c656d61",
   "metadata": {},
   "source": [
    "## 6. PCA Fitting & Variance Analysis\n"
   ]
  },
  {
   "cell_type": "code",
   "execution_count": 26,
   "id": "6c3fb6aa",
   "metadata": {},
   "outputs": [
    {
     "name": "stdout",
     "output_type": "stream",
     "text": [
      "[INFO] \n",
      "================================================================================\n",
      "[INFO] PCA FITTING\n",
      "[INFO] ================================================================================\n",
      "[INFO] \n",
      "✓ PCA Results:\n",
      "[INFO]   - Total components: 71\n",
      "[INFO]   - PCs for 80% variance: 17\n",
      "[INFO]   - PCs for 90% variance: 27\n",
      "[INFO]   - PCs for 95% variance: 36\n",
      "\n",
      "Cumulative variance by component:\n",
      "PC1: 0.203\n",
      "PC2: 0.364\n",
      "PC3: 0.438\n",
      "PC4: 0.496\n",
      "PC5: 0.547\n",
      "PC6: 0.587\n",
      "PC7: 0.622\n",
      "PC8: 0.652\n",
      "PC9: 0.676\n",
      "PC10: 0.697\n",
      "PC11: 0.716\n",
      "PC12: 0.735\n",
      "PC13: 0.752\n",
      "PC14: 0.768\n",
      "PC15: 0.783\n"
     ]
    }
   ],
   "source": [
    "# Fit PCA on the standardized features\n",
    "log_message(\"\\n\" + \"=\"*80)\n",
    "log_message(\"PCA FITTING\")\n",
    "log_message(\"=\"*80)\n",
    "\n",
    "from sklearn.decomposition import PCA\n",
    "\n",
    "pca = PCA()\n",
    "X_pca = pca.fit_transform(attacking_mid_winger_features_scaled_df)\n",
    "\n",
    "# Explained variance per component\n",
    "explained_var = pca.explained_variance_ratio_\n",
    "cum_var = np.cumsum(explained_var)\n",
    "\n",
    "# Find PCs for variance thresholds\n",
    "pc_80 = np.where(cum_var >= 0.80)[0][0] + 1 if len(np.where(cum_var >= 0.80)[0]) > 0 else None\n",
    "pc_90 = np.where(cum_var >= 0.90)[0][0] + 1 if len(np.where(cum_var >= 0.90)[0]) > 0 else None\n",
    "pc_95 = np.where(cum_var >= 0.95)[0][0] + 1 if len(np.where(cum_var >= 0.95)[0]) > 0 else None\n",
    "\n",
    "log_message(f\"\\n✓ PCA Results:\")\n",
    "log_message(f\"  - Total components: {len(explained_var)}\")\n",
    "log_message(f\"  - PCs for 80% variance: {pc_80}\")\n",
    "log_message(f\"  - PCs for 90% variance: {pc_90}\")\n",
    "log_message(f\"  - PCs for 95% variance: {pc_95}\")\n",
    "\n",
    "# Print the first 15 components' cumulative variance\n",
    "print(\"\\nCumulative variance by component:\")\n",
    "for i, var in enumerate(cum_var[:15], 1):\n",
    "    print(f\"PC{i}: {var:.3f}\")\n"
   ]
  },
  {
   "cell_type": "markdown",
   "id": "974ee271",
   "metadata": {},
   "source": [
    "## 7. PCA Loadings Analysis\n"
   ]
  },
  {
   "cell_type": "code",
   "execution_count": 28,
   "id": "f478ecea",
   "metadata": {},
   "outputs": [
    {
     "name": "stdout",
     "output_type": "stream",
     "text": [
      "\n",
      "Top 10 features for PC1:\n",
      "player_season_shots_key_passes_90      0.210953\n",
      "player_season_key_passes_90            0.208562\n",
      "player_season_xgchain_90               0.206628\n",
      "player_season_op_key_passes_90         0.206223\n",
      "player_season_positive_outcome_90      0.205555\n",
      "player_season_npxgxa_90                0.201816\n",
      "player_season_op_passes_into_box_90    0.189794\n",
      "player_season_f3_lbp_completed_90      0.189126\n",
      "player_season_op_xa_90                 0.189096\n",
      "player_season_passes_into_box_90       0.186483\n",
      "Name: PC1, dtype: float64\n",
      "\n",
      "Top 10 features for PC2:\n",
      "player_season_lbp_completed_90                 0.240067\n",
      "player_season_carry_ratio                      0.234425\n",
      "player_season_op_passes_90                     0.221835\n",
      "player_season_backward_pass_proportion         0.202628\n",
      "player_season_s_pass_length                    0.194512\n",
      "player_season_obv_pass_90                      0.192518\n",
      "player_season_shot_touch_ratio                 0.191362\n",
      "player_season_deep_progressions_90             0.178590\n",
      "player_season_op_f3_forward_pass_proportion    0.177223\n",
      "player_season_f3_lbp_received_90               0.176636\n",
      "Name: PC2, dtype: float64\n",
      "\n",
      "Top 10 features for PC3:\n",
      "player_season_crosses_90                            0.299270\n",
      "player_season_box_cross_ratio                       0.288737\n",
      "player_season_passing_ratio                         0.247091\n",
      "player_season_f3_ball_receipts_in_space_10_ratio    0.238488\n",
      "player_season_pass_into_danger_ratio                0.225598\n",
      "player_season_f3_ball_receipts_in_space_5_ratio     0.224191\n",
      "player_season_failed_dribbles_90                    0.187138\n",
      "player_season_npg_90                                0.183652\n",
      "player_season_lbp_ratio                             0.182407\n",
      "player_season_np_xg_per_shot                        0.177663\n",
      "Name: PC3, dtype: float64\n",
      "\n",
      "Top 10 features for PC4:\n",
      "player_season_padj_tackles_and_interceptions_90    0.266641\n",
      "player_season_counterpressures_90                  0.239918\n",
      "player_season_passing_ratio                        0.230886\n",
      "player_season_pressures_90                         0.227801\n",
      "player_season_sp_xa_90                             0.216490\n",
      "player_season_pass_length_ratio                    0.214386\n",
      "player_season_lbp_ratio                            0.214124\n",
      "player_season_ball_recoveries_90                   0.213391\n",
      "player_season_f3_lbp_ratio                         0.191379\n",
      "player_season_npxgxa_90                            0.183212\n",
      "Name: PC4, dtype: float64\n",
      "\n",
      "Top 10 features for PC5:\n",
      "player_season_conversion_ratio                      0.261262\n",
      "player_season_pressures_90                          0.248997\n",
      "player_season_fhalf_pressures_90                    0.246621\n",
      "player_season_np_xg_per_shot                        0.218795\n",
      "player_season_counterpressures_90                   0.218732\n",
      "player_season_f3_ball_receipts_in_space_10_ratio    0.210682\n",
      "player_season_npg_90                                0.196886\n",
      "player_season_f3_ball_receipts_in_space_5_ratio     0.196696\n",
      "player_season_obv_dribble_carry_90                  0.168673\n",
      "player_season_over_under_performance_90             0.165766\n",
      "Name: PC5, dtype: float64\n",
      "\n",
      "Top 10 features for PC6:\n",
      "player_season_pass_into_pressure_ratio     0.293362\n",
      "player_season_obv_shot_90                  0.285396\n",
      "player_season_pass_into_danger_ratio       0.264832\n",
      "player_season_conversion_ratio             0.263571\n",
      "player_season_forward_pass_proportion      0.247081\n",
      "player_season_sideways_pass_proportion     0.236997\n",
      "player_season_over_under_performance_90    0.209947\n",
      "player_season_pressures_90                 0.199278\n",
      "player_season_carry_length                 0.178394\n",
      "player_season_counterpressures_90          0.176411\n",
      "Name: PC6, dtype: float64\n",
      "\n",
      "Top 10 features for PC7:\n",
      "player_season_over_under_performance_90    0.327754\n",
      "player_season_carry_length                 0.280525\n",
      "player_season_failed_dribbles_90           0.257083\n",
      "player_season_dribbles_90                  0.255979\n",
      "player_season_npg_90                       0.228379\n",
      "player_season_conversion_ratio             0.218416\n",
      "player_season_crossing_ratio               0.217499\n",
      "player_season_pass_into_pressure_ratio     0.206498\n",
      "player_season_turnovers_90                 0.177200\n",
      "player_season_dispossessions_90            0.174347\n",
      "Name: PC7, dtype: float64\n"
     ]
    }
   ],
   "source": [
    "# Loadings matrix: features x components\n",
    "loadings = pd.DataFrame(\n",
    "    pca.components_.T,\n",
    "    columns=[f\"PC{i+1}\" for i in range(pca.n_components_)],\n",
    "    index=attacking_mid_winger_features_scaled_df.columns\n",
    ")\n",
    "\n",
    "# View top contributing features for each of the first 7 PCs\n",
    "for i in range(7):\n",
    "    print(f\"\\nTop 10 features for PC{i+1}:\")\n",
    "    print(loadings.iloc[:, i].abs().sort_values(ascending=False).head(10))\n"
   ]
  },
  {
   "cell_type": "markdown",
   "id": "e75278c2",
   "metadata": {},
   "source": [
    "## 8. Scree Plot"
   ]
  },
  {
   "cell_type": "code",
   "execution_count": 27,
   "id": "0d46cb65",
   "metadata": {},
   "outputs": [
    {
     "data": {
      "image/png": "[encoded data removed]",
      "text/plain": [
       "<Figure size 800x500 with 1 Axes>"
      ]
     },
     "metadata": {},
     "output_type": "display_data"
    }
   ],
   "source": [
    "# === Scree plot ===\n",
    "plt.figure(figsize=(8, 5))\n",
    "plt.plot(range(1, len(explained_var) + 1), cum_var, marker='o', linestyle='--', color='tab:blue')\n",
    "plt.title(\"Scree Plot – Cumulative Explained Variance (Attacking Midfielders & Wingers PCA)\")\n",
    "plt.xlabel(\"Number of Principal Components\")\n",
    "plt.ylabel(\"Cumulative Explained Variance\")\n",
    "plt.axhline(0.90, color='red', linestyle=':', label='90% threshold')\n",
    "plt.grid(True)\n",
    "plt.legend()\n",
    "plt.show()\n"
   ]
  },
  {
   "cell_type": "markdown",
   "id": "37102040",
   "metadata": {},
   "source": [
    "\n"
   ]
  },
  {
   "cell_type": "code",
   "execution_count": null,
   "id": "1c7ca225",
   "metadata": {},
   "outputs": [],
   "source": [
    "\n"
   ]
  },
  {
   "cell_type": "markdown",
   "id": "1605b239",
   "metadata": {},
   "source": [
    "\n"
   ]
  },
  {
   "cell_type": "code",
   "execution_count": null,
   "id": "657bce20",
   "metadata": {},
   "outputs": [],
   "source": [
    "\n"
   ]
  }
 ],
 "metadata": {
  "kernelspec": {
   "display_name": "Python 3",
   "language": "python",
   "name": "python3"
  },
  "language_info": {
   "codemirror_mode": {
    "name": "ipython",
    "version": 3
   },
   "file_extension": ".py",
   "mimetype": "text/x-python",
   "name": "python",
   "nbconvert_exporter": "python",
   "pygments_lexer": "ipython3",
   "version": "3.12.1"
  }
 },
 "nbformat": 4,
 "nbformat_minor": 5
}
