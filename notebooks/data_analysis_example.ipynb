{
  "cells": [
    {
      "cell_type": "markdown",
      "metadata": {},
      "source": [
        "# Liga MX Data Analysis Example\n",
        "\n",
        "This notebook demonstrates how to use the Liga MX data tools for offline analysis.\n",
        "\n",
        "## Steps:\n",
        "1. First, download data using `data_loader.py`\n",
        "2. Then use `data_analyzer.py` to load and analyze the data\n",
        "3. Perform your analysis with the cached data\n"
      ]
    }
  ],
  "metadata": {
    "language_info": {
      "name": "python"
    }
  },
  "nbformat": 4,
  "nbformat_minor": 2
}
