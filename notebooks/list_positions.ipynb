{
  "cells": [
    {
      "cell_type": "code",
      "execution_count": 6,
      "metadata": {},
      "outputs": [
        {
          "name": "stdout",
          "output_type": "stream",
          "text": [
            "Centre Attacking Midfielder\n",
            "Centre Back\n",
            "Centre Defensive Midfielder\n",
            "Centre Forward\n",
            "Goalkeeper\n",
            "Left Attacking Midfielder\n",
            "Left Back\n",
            "Left Centre Back\n",
            "Left Centre Forward\n",
            "Left Centre Midfielder\n",
            "Left Defensive Midfielder\n",
            "Left Midfielder\n",
            "Left Wing\n",
            "Left Wing Back\n",
            "Right Attacking Midfielder\n",
            "Right Back\n",
            "Right Centre Back\n",
            "Right Centre Forward\n",
            "Right Centre Midfielder\n",
            "Right Defensive Midfielder\n",
            "Right Midfielder\n",
            "Right Wing\n",
            "Right Wing Back\n"
          ]
        }
      ],
      "source": [
        "import sys\n",
        "import os\n",
        "sys.path.insert(0, os.path.abspath('..'))\n",
        "\n",
        "from api.client import client\n",
        "import pandas as pd\n",
        "\n",
        "# Get available competitions\n",
        "competitions = client.competitions()\n",
        "competitions_df = pd.DataFrame(competitions)\n",
        "\n",
        "# Get Liga MX and latest season\n",
        "liga_mx = competitions_df[competitions_df['competition_name'] == 'Liga MX']\n",
        "latest = liga_mx.iloc[-1]\n",
        "\n",
        "# Fetch player stats\n",
        "stats = client.player_season_stats(competition_id=latest['competition_id'], season_id=latest['season_id'])\n",
        "\n",
        "# Get unique positions from both primary and secondary\n",
        "primary_positions = stats['primary_position'].dropna()\n",
        "secondary_positions = stats['secondary_position'].dropna()\n",
        "\n",
        "all_positions = pd.concat([primary_positions, secondary_positions]).unique()\n",
        "positions = sorted(all_positions)\n",
        "\n",
        "# Print just the list\n",
        "for pos in positions:\n",
        "    print(pos)\n"
      ]
    }
  ],
  "metadata": {
    "kernelspec": {
      "display_name": "Python 3",
      "language": "python",
      "name": "python3"
    },
    "language_info": {
      "codemirror_mode": {
        "name": "ipython",
        "version": 3
      },
      "file_extension": ".py",
      "mimetype": "text/x-python",
      "name": "python",
      "nbconvert_exporter": "python",
      "pygments_lexer": "ipython3",
      "version": "3.12.1"
    }
  },
  "nbformat": 4,
  "nbformat_minor": 2
}
